{
 "cells": [
  {
   "cell_type": "markdown",
   "metadata": {},
   "source": [
    "1. 웹크롤링에 필요한 라이브러리 설치\n",
    "2. 웹페이지 실행하기\n",
    "3. 원하는 요소 찾고 출력해보기\n",
    "4. 판다스에 데이터 저장해보기\n",
    "5. '3일 전'을 날짜 형식으로 바꾸기\n",
    "6. 날짜변환 함수로 리스트 내 요소 날짜로 변환하기\n",
    "7. 판다스에 데이터 다시 담아보기\n",
    "8. 무한스크롤 해서 전체 댓글 확인할 수 있게 만들기\n",
    "9. 100개 출력해서 데이터프레임에 담아보기"
   ]
  },
  {
   "cell_type": "markdown",
   "metadata": {},
   "source": [
    "### 웹크롤링에 필요한 라이브러리 설치"
   ]
  },
  {
   "cell_type": "code",
   "execution_count": null,
   "metadata": {},
   "outputs": [],
   "source": [
    "pip install selenium == 4.17.2"
   ]
  },
  {
   "cell_type": "code",
   "execution_count": null,
   "metadata": {},
   "outputs": [],
   "source": [
    "pip install webdriver-manager"
   ]
  },
  {
   "cell_type": "markdown",
   "metadata": {},
   "source": [
    "### 웹페이지 실행하기"
   ]
  },
  {
   "cell_type": "code",
   "execution_count": null,
   "metadata": {},
   "outputs": [],
   "source": [
    "from selenium import webdriver\n",
    "\n",
    "driver = webdriver.Chrome()\n",
    "\n",
    "driver.get(\"https://www.youtube.com/watch?v=ucDJkDtWcww\")"
   ]
  },
  {
   "cell_type": "markdown",
   "metadata": {},
   "source": [
    "### 원하는 요소 찾고 출력해보기"
   ]
  },
  {
   "cell_type": "code",
   "execution_count": null,
   "metadata": {},
   "outputs": [
    {
     "data": {
      "text/plain": [
       "['3일 전',\n",
       " '3일 전',\n",
       " '3일 전',\n",
       " '3일 전',\n",
       " '3일 전',\n",
       " '3일 전',\n",
       " '3일 전',\n",
       " '3일 전',\n",
       " '3일 전',\n",
       " '3일 전']"
      ]
     },
     "execution_count": 39,
     "metadata": {},
     "output_type": "execute_result"
    }
   ],
   "source": [
    "# 0. 크롤링 하고 싶은 요소 찾아서 css선택자 정리 \n",
    "# 1. 요소 출력해보기\n",
    "# 2. 무한스크롤 기능으로 끝까지 내리기\n",
    "# 3. 댓글 수집하기\n",
    "\n",
    "#published-time-text > a\n",
    "\n",
    "# 날짜\n",
    "# .style-scope.ytd-comment-view-model > #published-time-text > a\n",
    "# 댓글내용\n",
    "# .style-scope.ytd-comment-view-model > .yt-core-attributed-string.yt-core-attributed-string--white-space-pre-wrap\n",
    "# 좋아요(#포함)\n",
    "#toolbar > #vote-count-middle\n",
    "\n",
    "from selenium.webdriver.common.by import By\n",
    "\n",
    "\n",
    "### 날짜 출력해보기\n",
    "# 날짜 = driver.find_element(By.CSS_SELECTOR, \"#published-time-text > a\")\n",
    "# 날짜.text\n",
    "\n",
    "\n",
    "### 날짜 10개 출력해보기\n",
    "# 날짜\n",
    "날짜 = driver.find_elements(By.CSS_SELECTOR, \".style-scope.ytd-comment-view-model > #published-time-text > a\")\n",
    "\n",
    "# 개수 확인\n",
    "# len(날짜)\n",
    "날짜정보 = []  # 날짜 여러개를 저장하려면 빈리스트 필요\n",
    "for 날짜낱개 in 날짜[:10]:\n",
    "    날짜정보.append(날짜낱개.text)\n",
    "날짜정보"
   ]
  },
  {
   "cell_type": "code",
   "execution_count": null,
   "metadata": {},
   "outputs": [],
   "source": [
    "# 댓글내용 10개 출력해보기\n",
    "댓글내용 = driver.find_elements(By.CSS_SELECTOR, \".style-scope.ytd-comment-view-model > .yt-core-attributed-string.yt-core-attributed-string--white-space-pre-wrap\")\n",
    "\n",
    "댓글저장 = []\n",
    "for 댓글 in 댓글내용[:10]:\n",
    "    댓글저장.append(댓글.text)\n",
    "댓글저장"
   ]
  },
  {
   "cell_type": "code",
   "execution_count": null,
   "metadata": {},
   "outputs": [],
   "source": [
    "# 좋아요 10개 출력해보기\n",
    "좋아요 = driver.find_elements(By.CSS_SELECTOR, \"#toolbar > #vote-count-middle\")\n",
    "\n",
    "# len(좋아요)\n",
    "좋아요저장 = []\n",
    "for 좋아요낱개 in 좋아요[:10]:\n",
    "    좋아요저장.append(좋아요낱개.text)\n",
    "좋아요저장"
   ]
  },
  {
   "cell_type": "markdown",
   "metadata": {},
   "source": [
    "### 판다스에 데이터 저장해보기"
   ]
  },
  {
   "cell_type": "code",
   "execution_count": null,
   "metadata": {},
   "outputs": [],
   "source": [
    "pip install pandas"
   ]
  },
  {
   "cell_type": "code",
   "execution_count": null,
   "metadata": {},
   "outputs": [
    {
     "data": {
      "text/html": [
       "<div>\n",
       "<style scoped>\n",
       "    .dataframe tbody tr th:only-of-type {\n",
       "        vertical-align: middle;\n",
       "    }\n",
       "\n",
       "    .dataframe tbody tr th {\n",
       "        vertical-align: top;\n",
       "    }\n",
       "\n",
       "    .dataframe thead th {\n",
       "        text-align: right;\n",
       "    }\n",
       "</style>\n",
       "<table border=\"1\" class=\"dataframe\">\n",
       "  <thead>\n",
       "    <tr style=\"text-align: right;\">\n",
       "      <th></th>\n",
       "      <th>날짜정보</th>\n",
       "    </tr>\n",
       "  </thead>\n",
       "  <tbody>\n",
       "    <tr>\n",
       "      <th>0</th>\n",
       "      <td>3일 전</td>\n",
       "    </tr>\n",
       "    <tr>\n",
       "      <th>1</th>\n",
       "      <td>3일 전</td>\n",
       "    </tr>\n",
       "    <tr>\n",
       "      <th>2</th>\n",
       "      <td>3일 전</td>\n",
       "    </tr>\n",
       "    <tr>\n",
       "      <th>3</th>\n",
       "      <td>3일 전</td>\n",
       "    </tr>\n",
       "    <tr>\n",
       "      <th>4</th>\n",
       "      <td>3일 전</td>\n",
       "    </tr>\n",
       "    <tr>\n",
       "      <th>5</th>\n",
       "      <td>3일 전</td>\n",
       "    </tr>\n",
       "    <tr>\n",
       "      <th>6</th>\n",
       "      <td>3일 전</td>\n",
       "    </tr>\n",
       "    <tr>\n",
       "      <th>7</th>\n",
       "      <td>3일 전</td>\n",
       "    </tr>\n",
       "    <tr>\n",
       "      <th>8</th>\n",
       "      <td>3일 전</td>\n",
       "    </tr>\n",
       "    <tr>\n",
       "      <th>9</th>\n",
       "      <td>3일 전</td>\n",
       "    </tr>\n",
       "  </tbody>\n",
       "</table>\n",
       "</div>"
      ],
      "text/plain": [
       "   날짜정보\n",
       "0  3일 전\n",
       "1  3일 전\n",
       "2  3일 전\n",
       "3  3일 전\n",
       "4  3일 전\n",
       "5  3일 전\n",
       "6  3일 전\n",
       "7  3일 전\n",
       "8  3일 전\n",
       "9  3일 전"
      ]
     },
     "execution_count": 35,
     "metadata": {},
     "output_type": "execute_result"
    }
   ],
   "source": [
    "import pandas as pd\n",
    "\n",
    "df = pd.DataFrame(날짜정보, columns=[\"날짜정보\"])\n",
    "df"
   ]
  },
  {
   "cell_type": "code",
   "execution_count": null,
   "metadata": {},
   "outputs": [
    {
     "data": {
      "text/html": [
       "<div>\n",
       "<style scoped>\n",
       "    .dataframe tbody tr th:only-of-type {\n",
       "        vertical-align: middle;\n",
       "    }\n",
       "\n",
       "    .dataframe tbody tr th {\n",
       "        vertical-align: top;\n",
       "    }\n",
       "\n",
       "    .dataframe thead th {\n",
       "        text-align: right;\n",
       "    }\n",
       "</style>\n",
       "<table border=\"1\" class=\"dataframe\">\n",
       "  <thead>\n",
       "    <tr style=\"text-align: right;\">\n",
       "      <th></th>\n",
       "      <th>날짜</th>\n",
       "      <th>댓글</th>\n",
       "      <th>좋아요</th>\n",
       "    </tr>\n",
       "  </thead>\n",
       "  <tbody>\n",
       "    <tr>\n",
       "      <th>0</th>\n",
       "      <td>3일 전</td>\n",
       "      <td>국민의힘은 다시는 국민들에게 투표해달라고 호소하지마라. 국민이 눈물로 호소했음에도 ...</td>\n",
       "      <td>589</td>\n",
       "    </tr>\n",
       "    <tr>\n",
       "      <th>1</th>\n",
       "      <td>3일 전</td>\n",
       "      <td>한동훈씨,, 국민들이 국회를 막고 보호해주지 않았으면 한동훈씨 당신은 지금쯤 체포조...</td>\n",
       "      <td>104</td>\n",
       "    </tr>\n",
       "    <tr>\n",
       "      <th>2</th>\n",
       "      <td>3일 전</td>\n",
       "      <td>강대식(대구 동구군위군을) 강명구(경북 구미시을) 강민국(경남 진주시을) 강선영(비...</td>\n",
       "      <td>10</td>\n",
       "    </tr>\n",
       "    <tr>\n",
       "      <th>3</th>\n",
       "      <td>3일 전</td>\n",
       "      <td>김명신 좋겠다 그목소리로 거봐 내가 이긴다했지  눈에\\n선하다 \\n근데 너 비참해질...</td>\n",
       "      <td>28</td>\n",
       "    </tr>\n",
       "    <tr>\n",
       "      <th>4</th>\n",
       "      <td>3일 전</td>\n",
       "      <td>국민의 힘.최악이네요!국민들 분노의 목소리가 들리지도 않습니까!귀머거리고 ,눈봉사입...</td>\n",
       "      <td>12</td>\n",
       "    </tr>\n",
       "    <tr>\n",
       "      <th>5</th>\n",
       "      <td>3일 전</td>\n",
       "      <td>국민의힘 다신 뽑지말고 믿을사람들 못됩니다 이기주의자들의 말에 다신 속지말고 정말 ...</td>\n",
       "      <td>12</td>\n",
       "    </tr>\n",
       "    <tr>\n",
       "      <th>6</th>\n",
       "      <td>3일 전</td>\n",
       "      <td>결국은 탄핵될거임\\n국민이 뽑아놓았더니 투표를 안 하겠다는게ㅋㅋ\\n부끄러운 줄 알아...</td>\n",
       "      <td>230</td>\n",
       "    </tr>\n",
       "    <tr>\n",
       "      <th>7</th>\n",
       "      <td>3일 전</td>\n",
       "      <td>윤석열 김건희 전부 법대로 처리해라 절대 미적되면 안된다  즉각실시해라\\n이재명도 ...</td>\n",
       "      <td>2</td>\n",
       "    </tr>\n",
       "    <tr>\n",
       "      <th>8</th>\n",
       "      <td>3일 전</td>\n",
       "      <td>윤건희부부- 국힘 니들은 공범이다ㆍ\\n끝까지 너희들이 저지른 죄값 치르게 할 것이다...</td>\n",
       "      <td>2</td>\n",
       "    </tr>\n",
       "    <tr>\n",
       "      <th>9</th>\n",
       "      <td>3일 전</td>\n",
       "      <td>국힘 50석 미만잡 되겄네 ㅊㅋㅊㅋ\\n벌써부터 다음 국회의원 선거가 기대되는걸?</td>\n",
       "      <td>243</td>\n",
       "    </tr>\n",
       "  </tbody>\n",
       "</table>\n",
       "</div>"
      ],
      "text/plain": [
       "     날짜                                                 댓글  좋아요\n",
       "0  3일 전  국민의힘은 다시는 국민들에게 투표해달라고 호소하지마라. 국민이 눈물로 호소했음에도 ...  589\n",
       "1  3일 전  한동훈씨,, 국민들이 국회를 막고 보호해주지 않았으면 한동훈씨 당신은 지금쯤 체포조...  104\n",
       "2  3일 전  강대식(대구 동구군위군을) 강명구(경북 구미시을) 강민국(경남 진주시을) 강선영(비...   10\n",
       "3  3일 전  김명신 좋겠다 그목소리로 거봐 내가 이긴다했지  눈에\\n선하다 \\n근데 너 비참해질...   28\n",
       "4  3일 전  국민의 힘.최악이네요!국민들 분노의 목소리가 들리지도 않습니까!귀머거리고 ,눈봉사입...   12\n",
       "5  3일 전  국민의힘 다신 뽑지말고 믿을사람들 못됩니다 이기주의자들의 말에 다신 속지말고 정말 ...   12\n",
       "6  3일 전  결국은 탄핵될거임\\n국민이 뽑아놓았더니 투표를 안 하겠다는게ㅋㅋ\\n부끄러운 줄 알아...  230\n",
       "7  3일 전  윤석열 김건희 전부 법대로 처리해라 절대 미적되면 안된다  즉각실시해라\\n이재명도 ...    2\n",
       "8  3일 전  윤건희부부- 국힘 니들은 공범이다ㆍ\\n끝까지 너희들이 저지른 죄값 치르게 할 것이다...    2\n",
       "9  3일 전       국힘 50석 미만잡 되겄네 ㅊㅋㅊㅋ\\n벌써부터 다음 국회의원 선거가 기대되는걸?  243"
      ]
     },
     "execution_count": 38,
     "metadata": {},
     "output_type": "execute_result"
    }
   ],
   "source": [
    "# 각각 추출한 정보 한 곳에 담기\n",
    "\n",
    "정보모음 = {\n",
    "    '날짜' : 날짜정보,\n",
    "    '댓글' : 댓글저장,\n",
    "    '좋아요' : 좋아요저장,\n",
    "}\n",
    "\n",
    "# 'columns=' 파라미터 안 써도 되는 이유?\n",
    "    # 딕셔너리 데이터 기반으로 데이터프레임을 만들면, 키값이 컬럼명이 된다.\n",
    "pd.DataFrame(정보모음)"
   ]
  },
  {
   "cell_type": "markdown",
   "metadata": {},
   "source": [
    "### '3일 전'을 날짜 형식으로 바꾸기"
   ]
  },
  {
   "cell_type": "markdown",
   "metadata": {},
   "source": [
    "1. 현재날짜에서 3일 빼서 표기해보기"
   ]
  },
  {
   "cell_type": "code",
   "execution_count": null,
   "metadata": {},
   "outputs": [
    {
     "data": {
      "text/plain": [
       "'2024:12:11'"
      ]
     },
     "execution_count": 41,
     "metadata": {},
     "output_type": "execute_result"
    }
   ],
   "source": [
    "# 현재 날짜 출력해보기\n",
    "\n",
    "from datetime import datetime\n",
    "\n",
    "현재날짜 = datetime.now()\n",
    "\n",
    "현재날짜.strftime(\"%Y:%m:%d\")"
   ]
  },
  {
   "cell_type": "code",
   "execution_count": 44,
   "metadata": {},
   "outputs": [
    {
     "data": {
      "text/plain": [
       "'2024:12:08'"
      ]
     },
     "execution_count": 44,
     "metadata": {},
     "output_type": "execute_result"
    }
   ],
   "source": [
    "# 데이터에 있는 날짜 값을 현재 날짜 기준으로 변환하기\n",
    "\n",
    "from datetime import timedelta\n",
    "\n",
    "데이터날짜 = 현재날짜 - timedelta(days=3)\n",
    "데이터날짜\n",
    "\n",
    "변환데이터날짜 = 데이터날짜.strftime(\"%Y:%m:%d\")\n",
    "변환데이터날짜"
   ]
  },
  {
   "cell_type": "markdown",
   "metadata": {},
   "source": [
    "2. 문자열에서 숫자 추출 후 해당값 정수형으로 변환하기 (함수까지 만들기까지)"
   ]
  },
  {
   "cell_type": "code",
   "execution_count": null,
   "metadata": {},
   "outputs": [
    {
     "data": {
      "text/plain": [
       "3"
      ]
     },
     "execution_count": 60,
     "metadata": {},
     "output_type": "execute_result"
    }
   ],
   "source": [
    "# 텍스트 안에서 숫자만 추출\n",
    "    # 반복문으로 한글자씩 출력\n",
    "    # 한글자씩 조건문으로 확인\n",
    "    # 조건문에 해당하면, 해당 글자를 정수형으로 변환\n",
    "# 문자열 타입인 숫자를 정수형으로 변환\n",
    "\n",
    "\n",
    "테스트 = \"3일 전\"\n",
    "\n",
    "# for 숫자데이터 in 테스트:\n",
    "#     if 숫자데이터.isdigit():\n",
    "#         # print(숫자데이터)\n",
    "#         변환_숫자데이터 = int(숫자데이터)\n",
    "# 변환_숫자데이터\n",
    "\n",
    "# type(변환_숫자데이터)\n",
    "\n",
    "# 반복해서 위 기능을 사용하고 싶어.\n",
    "# 어떤 관점을 갖고 코드를 봐야 재사용 할 수 있게 만들수 있을까?\n",
    "# --> 테스트 한 대상을 파라미터로 생각하고 코드를 수정한다. \n",
    "      #그리고 출력하고 싶은 것 왼쪽에 return 붙여라\n",
    "\n",
    "def 숫자변환(날짜넣으시오):\n",
    "    for 숫자데이터 in 날짜넣으시오:\n",
    "        if 숫자데이터.isdigit():\n",
    "            # print(숫자데이터)\n",
    "            변환_숫자데이터 = int(숫자데이터)\n",
    "    return 변환_숫자데이터\n",
    "\n",
    "숫자변환(테스트)"
   ]
  },
  {
   "cell_type": "markdown",
   "metadata": {},
   "source": [
    "3. 변환한 정수형 숫자를 현재날짜에서 빼기 (함수까지 만들기)"
   ]
  },
  {
   "cell_type": "code",
   "execution_count": null,
   "metadata": {},
   "outputs": [
    {
     "data": {
      "text/plain": [
       "'2024:12:08'"
      ]
     },
     "execution_count": 80,
     "metadata": {},
     "output_type": "execute_result"
    }
   ],
   "source": [
    "# 문자열에서 숫자 추출 후 정수형으로 변환한 값을 날짜 형식으로 바꾸기\n",
    "    # 1. 숫자 추출 후 정수형으로 변환\n",
    "    # 2. 현재 날짜에서 정수형으로 변환한 거 빼기\n",
    "    # 3. 뺀 값을 보기 좋게 변환\n",
    "\n",
    "테스트 = \"3일 전\"\n",
    "\n",
    "# 1. 숫자 추출 후 정수형으로 변환\n",
    "for 숫자데이터 in 테스트:\n",
    "    if 숫자데이터.isdigit():\n",
    "        # print(숫자데이터)\n",
    "        변환_숫자데이터 = int(숫자데이터)\n",
    "\n",
    "# 2. 현재 날짜에서 정수형으로 변환한 거 빼기\n",
    "날짜로변환 = 현재날짜 - timedelta(days=변환_숫자데이터)\n",
    "\n",
    "# 3. 뺀 값을 보기 좋게 변환\n",
    "이쁘게_날짜로변환 = 날짜로변환.strftime(\"%Y:%m:%d\")\n",
    "이쁘게_날짜로변환\n",
    "\n",
    "\n",
    "def 날짜변환함수(날짜넣어라):\n",
    "    for 숫자데이터 in 날짜넣어라:\n",
    "        if 숫자데이터.isdigit():\n",
    "            # print(숫자데이터)\n",
    "            변환_숫자데이터 = int(숫자데이터)\n",
    "\n",
    "    # 2. 현재 날짜에서 정수형으로 변환한 거 빼기\n",
    "    날짜로변환 = 현재날짜 - timedelta(days=변환_숫자데이터)\n",
    "\n",
    "    # 3. 뺀 값을 보기 좋게 변환\n",
    "    이쁘게_날짜로변환 = 날짜로변환.strftime(\"%Y:%m:%d\")\n",
    "    return 이쁘게_날짜로변환\n",
    "\n",
    "날짜변환함수(테스트)"
   ]
  },
  {
   "cell_type": "markdown",
   "metadata": {},
   "source": [
    "### 날짜변환 함수로 리스트 내 요소 날짜로 변환하기"
   ]
  },
  {
   "cell_type": "code",
   "execution_count": 81,
   "metadata": {},
   "outputs": [
    {
     "data": {
      "text/plain": [
       "['2024:12:08',\n",
       " '2024:12:08',\n",
       " '2024:12:08',\n",
       " '2024:12:08',\n",
       " '2024:12:08',\n",
       " '2024:12:08',\n",
       " '2024:12:08',\n",
       " '2024:12:08',\n",
       " '2024:12:08',\n",
       " '2024:12:08']"
      ]
     },
     "execution_count": 81,
     "metadata": {},
     "output_type": "execute_result"
    }
   ],
   "source": [
    "# 날짜 데이터가 리스트에 담긴다\n",
    "# 리스트에 있는 각각 요소를 날짜 형식에 맞게 변환해준다.\n",
    "\n",
    "from selenium.webdriver.common.by import By\n",
    "\n",
    "\n",
    "날짜 = driver.find_elements(By.CSS_SELECTOR, \".style-scope.ytd-comment-view-model > #published-time-text > a\")\n",
    "\n",
    "날짜정보 = []  \n",
    "for 날짜낱개 in 날짜[:10]:\n",
    "    날짜정보.append(날짜낱개.text)\n",
    "날짜정보\n",
    "\n",
    "변환한날짜담는곳 = []\n",
    "for 날짜날짜 in 날짜정보:\n",
    "    날짜변환완료요 = 날짜변환함수(날짜날짜)\n",
    "    변환한날짜담는곳.append(날짜변환완료요)\n",
    "변환한날짜담는곳"
   ]
  },
  {
   "cell_type": "code",
   "execution_count": 71,
   "metadata": {},
   "outputs": [
    {
     "data": {
      "text/plain": [
       "[3, 3, 3, 3, 3, 3, 3, 3, 3, 3]"
      ]
     },
     "execution_count": 71,
     "metadata": {},
     "output_type": "execute_result"
    }
   ],
   "source": [
    "# 리스트에 있는 각 요소에 숫자변환 함수 적용하기\n",
    "#     1. 각 요소를 반복문을 이용해 뽑아낸다\n",
    "#     2. 뽑아낸 각 요소에 숫자변환 함수를 적용한다.\n",
    "#     3. 적용한 결과를 빈 리스트에 추가한다.\n",
    "\n",
    "리스트_숫자변환완료 = []\n",
    "for 날짜날짜 in 날짜정보:\n",
    "    숫자변환완료 = 숫자변환(날짜날짜)\n",
    "    # print(숫자변환완료)\n",
    "    리스트_숫자변환완료.append(숫자변환완료)\n",
    "리스트_숫자변환완료"
   ]
  },
  {
   "cell_type": "code",
   "execution_count": 79,
   "metadata": {},
   "outputs": [
    {
     "data": {
      "text/plain": [
       "['2024:12:08',\n",
       " '2024:12:08',\n",
       " '2024:12:08',\n",
       " '2024:12:08',\n",
       " '2024:12:08',\n",
       " '2024:12:08',\n",
       " '2024:12:08',\n",
       " '2024:12:08',\n",
       " '2024:12:08',\n",
       " '2024:12:08']"
      ]
     },
     "execution_count": 79,
     "metadata": {},
     "output_type": "execute_result"
    }
   ],
   "source": [
    "변환한날짜담는곳 = []\n",
    "for 날짜날짜 in 날짜정보:\n",
    "    날짜변환완료요 = 날짜변환함수(날짜날짜)\n",
    "    변환한날짜담는곳.append(날짜변환완료요)\n",
    "변환한날짜담는곳"
   ]
  },
  {
   "cell_type": "markdown",
   "metadata": {},
   "source": [
    "### 판다스에 데이터 다시 담아보기"
   ]
  },
  {
   "cell_type": "code",
   "execution_count": 82,
   "metadata": {},
   "outputs": [
    {
     "data": {
      "text/html": [
       "<div>\n",
       "<style scoped>\n",
       "    .dataframe tbody tr th:only-of-type {\n",
       "        vertical-align: middle;\n",
       "    }\n",
       "\n",
       "    .dataframe tbody tr th {\n",
       "        vertical-align: top;\n",
       "    }\n",
       "\n",
       "    .dataframe thead th {\n",
       "        text-align: right;\n",
       "    }\n",
       "</style>\n",
       "<table border=\"1\" class=\"dataframe\">\n",
       "  <thead>\n",
       "    <tr style=\"text-align: right;\">\n",
       "      <th></th>\n",
       "      <th>날짜</th>\n",
       "      <th>댓글</th>\n",
       "      <th>좋아요</th>\n",
       "    </tr>\n",
       "  </thead>\n",
       "  <tbody>\n",
       "    <tr>\n",
       "      <th>0</th>\n",
       "      <td>2024:12:08</td>\n",
       "      <td>국민의힘은 다시는 국민들에게 투표해달라고 호소하지마라. 국민이 눈물로 호소했음에도 ...</td>\n",
       "      <td>589</td>\n",
       "    </tr>\n",
       "    <tr>\n",
       "      <th>1</th>\n",
       "      <td>2024:12:08</td>\n",
       "      <td>한동훈씨,, 국민들이 국회를 막고 보호해주지 않았으면 한동훈씨 당신은 지금쯤 체포조...</td>\n",
       "      <td>104</td>\n",
       "    </tr>\n",
       "    <tr>\n",
       "      <th>2</th>\n",
       "      <td>2024:12:08</td>\n",
       "      <td>강대식(대구 동구군위군을) 강명구(경북 구미시을) 강민국(경남 진주시을) 강선영(비...</td>\n",
       "      <td>10</td>\n",
       "    </tr>\n",
       "    <tr>\n",
       "      <th>3</th>\n",
       "      <td>2024:12:08</td>\n",
       "      <td>김명신 좋겠다 그목소리로 거봐 내가 이긴다했지  눈에\\n선하다 \\n근데 너 비참해질...</td>\n",
       "      <td>28</td>\n",
       "    </tr>\n",
       "    <tr>\n",
       "      <th>4</th>\n",
       "      <td>2024:12:08</td>\n",
       "      <td>국민의 힘.최악이네요!국민들 분노의 목소리가 들리지도 않습니까!귀머거리고 ,눈봉사입...</td>\n",
       "      <td>12</td>\n",
       "    </tr>\n",
       "    <tr>\n",
       "      <th>5</th>\n",
       "      <td>2024:12:08</td>\n",
       "      <td>국민의힘 다신 뽑지말고 믿을사람들 못됩니다 이기주의자들의 말에 다신 속지말고 정말 ...</td>\n",
       "      <td>12</td>\n",
       "    </tr>\n",
       "    <tr>\n",
       "      <th>6</th>\n",
       "      <td>2024:12:08</td>\n",
       "      <td>결국은 탄핵될거임\\n국민이 뽑아놓았더니 투표를 안 하겠다는게ㅋㅋ\\n부끄러운 줄 알아...</td>\n",
       "      <td>230</td>\n",
       "    </tr>\n",
       "    <tr>\n",
       "      <th>7</th>\n",
       "      <td>2024:12:08</td>\n",
       "      <td>윤석열 김건희 전부 법대로 처리해라 절대 미적되면 안된다  즉각실시해라\\n이재명도 ...</td>\n",
       "      <td>2</td>\n",
       "    </tr>\n",
       "    <tr>\n",
       "      <th>8</th>\n",
       "      <td>2024:12:08</td>\n",
       "      <td>윤건희부부- 국힘 니들은 공범이다ㆍ\\n끝까지 너희들이 저지른 죄값 치르게 할 것이다...</td>\n",
       "      <td>2</td>\n",
       "    </tr>\n",
       "    <tr>\n",
       "      <th>9</th>\n",
       "      <td>2024:12:08</td>\n",
       "      <td>국힘 50석 미만잡 되겄네 ㅊㅋㅊㅋ\\n벌써부터 다음 국회의원 선거가 기대되는걸?</td>\n",
       "      <td>243</td>\n",
       "    </tr>\n",
       "  </tbody>\n",
       "</table>\n",
       "</div>"
      ],
      "text/plain": [
       "           날짜                                                 댓글  좋아요\n",
       "0  2024:12:08  국민의힘은 다시는 국민들에게 투표해달라고 호소하지마라. 국민이 눈물로 호소했음에도 ...  589\n",
       "1  2024:12:08  한동훈씨,, 국민들이 국회를 막고 보호해주지 않았으면 한동훈씨 당신은 지금쯤 체포조...  104\n",
       "2  2024:12:08  강대식(대구 동구군위군을) 강명구(경북 구미시을) 강민국(경남 진주시을) 강선영(비...   10\n",
       "3  2024:12:08  김명신 좋겠다 그목소리로 거봐 내가 이긴다했지  눈에\\n선하다 \\n근데 너 비참해질...   28\n",
       "4  2024:12:08  국민의 힘.최악이네요!국민들 분노의 목소리가 들리지도 않습니까!귀머거리고 ,눈봉사입...   12\n",
       "5  2024:12:08  국민의힘 다신 뽑지말고 믿을사람들 못됩니다 이기주의자들의 말에 다신 속지말고 정말 ...   12\n",
       "6  2024:12:08  결국은 탄핵될거임\\n국민이 뽑아놓았더니 투표를 안 하겠다는게ㅋㅋ\\n부끄러운 줄 알아...  230\n",
       "7  2024:12:08  윤석열 김건희 전부 법대로 처리해라 절대 미적되면 안된다  즉각실시해라\\n이재명도 ...    2\n",
       "8  2024:12:08  윤건희부부- 국힘 니들은 공범이다ㆍ\\n끝까지 너희들이 저지른 죄값 치르게 할 것이다...    2\n",
       "9  2024:12:08       국힘 50석 미만잡 되겄네 ㅊㅋㅊㅋ\\n벌써부터 다음 국회의원 선거가 기대되는걸?  243"
      ]
     },
     "execution_count": 82,
     "metadata": {},
     "output_type": "execute_result"
    }
   ],
   "source": [
    "정보모음 = {\n",
    "    '날짜' : 변환한날짜담는곳,\n",
    "    '댓글' : 댓글저장,\n",
    "    '좋아요' : 좋아요저장,\n",
    "}\n",
    "\n",
    "\n",
    "pd.DataFrame(정보모음)"
   ]
  },
  {
   "cell_type": "markdown",
   "metadata": {},
   "source": [
    "### 무한스크롤 해서 전체 댓글 확인할 수 있게 만들기"
   ]
  },
  {
   "cell_type": "code",
   "execution_count": 86,
   "metadata": {},
   "outputs": [],
   "source": [
    "from selenium import webdriver\n",
    "\n",
    "driver = webdriver.Chrome()\n",
    "\n",
    "driver.get(\"https://www.youtube.com/watch?v=ucDJkDtWcww\")"
   ]
  },
  {
   "cell_type": "code",
   "execution_count": null,
   "metadata": {},
   "outputs": [],
   "source": [
    "# 무한스크롤 알고리즘\n",
    "    # 현재 윈도우 창 높이만큼 스크롤 해줘.\n",
    "    # 1번을 반복해줘.\n",
    "    # 언제까지? 0이 될 때까지 \n",
    "\n",
    "# 절대 위치 이동 | 딱 1000px만 이동\n",
    "# driver.execute_script(\"window.scrollTo(0,1000)\")\n",
    "\n",
    "# 상대 위치 이동 | 현재 위치에서 1000px 이동\n",
    "# driver.execute_script(\"window.scrollBy(0, 1000)\")\n",
    "\n",
    "# 전체 스크롤 높이 \n",
    "    # 유튜브는 SPA라서 DOM 접근이 다르다\n",
    "    # 다른 곳은 \"return document.body.scrollHeight\" 입력하면 된다\n",
    "    # 근데 유튜브는 SPA라서 아래처럼 입력해야 한다.\n",
    "    #     SPA 페이지인지 알아내는 방법\n",
    "    #         해시 또는 쿼리 파라미터만 바뀌면 SPA\n",
    "    #         기본 동영상 URL: https://www.youtube.com/watch?v=abc123xyz\n",
    "    #         같은 동영상의 특정 시간대로 이동할 때: https://www.youtube.com/watch?v=abc123xyz&t=2m30s\n",
    "현재스크롤전체높이 = driver.execute_script(\"return document.documentElement.scrollHeight\")\n",
    "\n",
    "\n",
    "# 상대 위치 이동하기 | 현재스크롤높이만큼\n",
    "driver.execute_script(\"window.scrollBy(0, 현재스크롤전체높이)\")\n",
    "\n",
    "# 페이지 로딩\n",
    "\n",
    "import time\n",
    "\n",
    "# '새스크롤높이(전체스크롤높이)' 또 확인\n",
    "\n",
    "\n",
    "# 조건문으로 처음 전체 스크롤 높이와 나중 전체 스크롤 높이를 비교\n",
    "    # 0이면 break 해서 while 반복문 멈추게 하기\n",
    "\n",
    "\n"
   ]
  }
 ],
 "metadata": {
  "kernelspec": {
   "display_name": "Python 3",
   "language": "python",
   "name": "python3"
  },
  "language_info": {
   "codemirror_mode": {
    "name": "ipython",
    "version": 3
   },
   "file_extension": ".py",
   "mimetype": "text/x-python",
   "name": "python",
   "nbconvert_exporter": "python",
   "pygments_lexer": "ipython3",
   "version": "3.10.9"
  }
 },
 "nbformat": 4,
 "nbformat_minor": 2
}
